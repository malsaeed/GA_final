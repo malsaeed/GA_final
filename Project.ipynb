{
 "cells": [
  {
   "cell_type": "code",
   "execution_count": 1,
   "metadata": {},
   "outputs": [],
   "source": [
    "import pandas as pd\n",
    "import numpy as np\n",
    "import seaborn as sns\n",
    "import matplotlib.pyplot as plt\n",
    "%matplotlib inline"
   ]
  },
  {
   "cell_type": "code",
   "execution_count": 2,
   "metadata": {},
   "outputs": [],
   "source": [
    "covid1 = pd.read_csv(r\"C:\\Users\\sony\\Data_S\\final_project\\2019-coronavirus-dataset-01212020-01262020\\2019_nC0v_20200121_20200126_cleaned.csv\")\n",
    "covid2 = pd.read_csv(r\"C:\\Users\\sony\\Data_S\\final_project\\novel-corona-virus-2019-dataset\\covid_19_data.csv\")\n",
    "mers= pd.read_csv(r\"C:\\Users\\sony\\Data_S\\final_project\\mers-outbreak-dataset-20122019\\country_count_latest.csv\")\n",
    "#mers= pd.read_csv(r\"C:\\Users\\sony\\Data_S\\final_project\\mers-outbreak-dataset-20122019\\weekly_clean.csv\")\n",
    "hn = pd.read_csv(r\"C:\\Users\\sony\\Data_S\\final_project\\pandemic-2009-h1n1-swine-flu-influenza-a-dataset\\hn.csv\",encoding= 'unicode_escape')\n",
    "sars = pd.read_csv(r\"C:\\Users\\sony\\Data_S\\final_project\\sars-outbreak-2003-complete-dataset\\sars_2003_complete_dataset_clean.csv\")"
   ]
  },
  {
   "cell_type": "code",
   "execution_count": 3,
   "metadata": {},
   "outputs": [],
   "source": [
    "#No need for now but we can see how its cleaned\n",
    "#covid1.info()"
   ]
  },
  {
   "cell_type": "code",
   "execution_count": 4,
   "metadata": {},
   "outputs": [
    {
     "data": {
      "text/plain": [
       "(368, 8)"
      ]
     },
     "execution_count": 4,
     "metadata": {},
     "output_type": "execute_result"
    }
   ],
   "source": [
    "covid1.shape"
   ]
  },
  {
   "cell_type": "code",
   "execution_count": 5,
   "metadata": {},
   "outputs": [
    {
     "name": "stdout",
     "output_type": "stream",
     "text": [
      "<class 'pandas.core.frame.DataFrame'>\n",
      "RangeIndex: 19607 entries, 0 to 19606\n",
      "Data columns (total 8 columns):\n",
      "SNo                19607 non-null int64\n",
      "ObservationDate    19607 non-null object\n",
      "Province/State     9606 non-null object\n",
      "Country/Region     19607 non-null object\n",
      "Last Update        19607 non-null object\n",
      "Confirmed          19607 non-null float64\n",
      "Deaths             19607 non-null float64\n",
      "Recovered          19607 non-null float64\n",
      "dtypes: float64(3), int64(1), object(4)\n",
      "memory usage: 1.2+ MB\n"
     ]
    }
   ],
   "source": [
    "#this one I think butter coz upto date but need for cleaning \n",
    "#covid_19_data.csv\n",
    "#Sno - Serial number\n",
    "#ObservationDate - Date of the observation in MM/DD/YYYY\n",
    "#Province/State - Province or state of the observation (Could be empty when missing)\n",
    "#Country/Region - Country of observation\n",
    "#Last Update - Time in UTC at which the row is updated for the given province or country. (Not standardised and so please clean before using it)\n",
    "#Confirmed - Cumulative number of confirmed cases till that date\n",
    "#Deaths - Cumulative number of of deaths till that date\n",
    "#Recovered - Cumulative number of recovered cases till that date\n",
    "covid2.info()"
   ]
  },
  {
   "cell_type": "code",
   "execution_count": 6,
   "metadata": {},
   "outputs": [
    {
     "data": {
      "text/plain": [
       "(19607, 8)"
      ]
     },
     "execution_count": 6,
     "metadata": {},
     "output_type": "execute_result"
    }
   ],
   "source": [
    "covid2.shape"
   ]
  },
  {
   "cell_type": "code",
   "execution_count": 7,
   "metadata": {},
   "outputs": [
    {
     "data": {
      "text/plain": [
       "SNo                    0\n",
       "ObservationDate        0\n",
       "Province/State     10001\n",
       "Country/Region         0\n",
       "Last Update            0\n",
       "Confirmed              0\n",
       "Deaths                 0\n",
       "Recovered              0\n",
       "dtype: int64"
      ]
     },
     "execution_count": 7,
     "metadata": {},
     "output_type": "execute_result"
    }
   ],
   "source": [
    "covid2.isnull().sum()"
   ]
  },
  {
   "cell_type": "code",
   "execution_count": 9,
   "metadata": {},
   "outputs": [
    {
     "data": {
      "text/html": [
       "<div>\n",
       "<style scoped>\n",
       "    .dataframe tbody tr th:only-of-type {\n",
       "        vertical-align: middle;\n",
       "    }\n",
       "\n",
       "    .dataframe tbody tr th {\n",
       "        vertical-align: top;\n",
       "    }\n",
       "\n",
       "    .dataframe thead th {\n",
       "        text-align: right;\n",
       "    }\n",
       "</style>\n",
       "<table border=\"1\" class=\"dataframe\">\n",
       "  <thead>\n",
       "    <tr style=\"text-align: right;\">\n",
       "      <th></th>\n",
       "      <th>count</th>\n",
       "      <th>mean</th>\n",
       "      <th>std</th>\n",
       "      <th>min</th>\n",
       "      <th>25%</th>\n",
       "      <th>50%</th>\n",
       "      <th>75%</th>\n",
       "      <th>max</th>\n",
       "    </tr>\n",
       "  </thead>\n",
       "  <tbody>\n",
       "    <tr>\n",
       "      <td>SNo</td>\n",
       "      <td>19607.0</td>\n",
       "      <td>9804.000000</td>\n",
       "      <td>5660.197700</td>\n",
       "      <td>1.0</td>\n",
       "      <td>4902.5</td>\n",
       "      <td>9804.0</td>\n",
       "      <td>14705.5</td>\n",
       "      <td>19607.0</td>\n",
       "    </tr>\n",
       "    <tr>\n",
       "      <td>Confirmed</td>\n",
       "      <td>19607.0</td>\n",
       "      <td>3445.555159</td>\n",
       "      <td>16660.567883</td>\n",
       "      <td>0.0</td>\n",
       "      <td>11.0</td>\n",
       "      <td>115.0</td>\n",
       "      <td>768.0</td>\n",
       "      <td>295106.0</td>\n",
       "    </tr>\n",
       "    <tr>\n",
       "      <td>Deaths</td>\n",
       "      <td>19607.0</td>\n",
       "      <td>211.609731</td>\n",
       "      <td>1529.580698</td>\n",
       "      <td>0.0</td>\n",
       "      <td>0.0</td>\n",
       "      <td>1.0</td>\n",
       "      <td>10.0</td>\n",
       "      <td>27359.0</td>\n",
       "    </tr>\n",
       "    <tr>\n",
       "      <td>Recovered</td>\n",
       "      <td>19607.0</td>\n",
       "      <td>893.386597</td>\n",
       "      <td>6396.045309</td>\n",
       "      <td>0.0</td>\n",
       "      <td>0.0</td>\n",
       "      <td>2.0</td>\n",
       "      <td>81.0</td>\n",
       "      <td>123903.0</td>\n",
       "    </tr>\n",
       "  </tbody>\n",
       "</table>\n",
       "</div>"
      ],
      "text/plain": [
       "             count         mean           std  min     25%     50%      75%  \\\n",
       "SNo        19607.0  9804.000000   5660.197700  1.0  4902.5  9804.0  14705.5   \n",
       "Confirmed  19607.0  3445.555159  16660.567883  0.0    11.0   115.0    768.0   \n",
       "Deaths     19607.0   211.609731   1529.580698  0.0     0.0     1.0     10.0   \n",
       "Recovered  19607.0   893.386597   6396.045309  0.0     0.0     2.0     81.0   \n",
       "\n",
       "                max  \n",
       "SNo         19607.0  \n",
       "Confirmed  295106.0  \n",
       "Deaths      27359.0  \n",
       "Recovered  123903.0  "
      ]
     },
     "execution_count": 9,
     "metadata": {},
     "output_type": "execute_result"
    }
   ],
   "source": [
    "covid2.describe().T"
   ]
  },
  {
   "cell_type": "code",
   "execution_count": null,
   "metadata": {},
   "outputs": [],
   "source": [
    "#covid clean just need to fill missng value of state with NA "
   ]
  },
  {
   "cell_type": "code",
   "execution_count": 21,
   "metadata": {},
   "outputs": [
    {
     "name": "stdout",
     "output_type": "stream",
     "text": [
      "<class 'pandas.core.frame.DataFrame'>\n",
      "RangeIndex: 27 entries, 0 to 26\n",
      "Data columns (total 2 columns):\n",
      "Country      27 non-null object\n",
      "Confirmed    27 non-null int64\n",
      "dtypes: int64(1), object(1)\n",
      "memory usage: 560.0+ bytes\n"
     ]
    }
   ],
   "source": [
    "mers.info()"
   ]
  },
  {
   "cell_type": "code",
   "execution_count": 10,
   "metadata": {},
   "outputs": [
    {
     "data": {
      "text/plain": [
       "Country      0\n",
       "Confirmed    0\n",
       "dtype: int64"
      ]
     },
     "execution_count": 10,
     "metadata": {},
     "output_type": "execute_result"
    }
   ],
   "source": [
    "mers.isnull().sum()"
   ]
  },
  {
   "cell_type": "code",
   "execution_count": 11,
   "metadata": {},
   "outputs": [
    {
     "data": {
      "text/html": [
       "<div>\n",
       "<style scoped>\n",
       "    .dataframe tbody tr th:only-of-type {\n",
       "        vertical-align: middle;\n",
       "    }\n",
       "\n",
       "    .dataframe tbody tr th {\n",
       "        vertical-align: top;\n",
       "    }\n",
       "\n",
       "    .dataframe thead th {\n",
       "        text-align: right;\n",
       "    }\n",
       "</style>\n",
       "<table border=\"1\" class=\"dataframe\">\n",
       "  <thead>\n",
       "    <tr style=\"text-align: right;\">\n",
       "      <th></th>\n",
       "      <th>count</th>\n",
       "      <th>mean</th>\n",
       "      <th>std</th>\n",
       "      <th>min</th>\n",
       "      <th>25%</th>\n",
       "      <th>50%</th>\n",
       "      <th>75%</th>\n",
       "      <th>max</th>\n",
       "    </tr>\n",
       "  </thead>\n",
       "  <tbody>\n",
       "    <tr>\n",
       "      <td>Confirmed</td>\n",
       "      <td>27.0</td>\n",
       "      <td>90.703704</td>\n",
       "      <td>395.029679</td>\n",
       "      <td>1.0</td>\n",
       "      <td>1.5</td>\n",
       "      <td>2.0</td>\n",
       "      <td>5.5</td>\n",
       "      <td>2058.0</td>\n",
       "    </tr>\n",
       "  </tbody>\n",
       "</table>\n",
       "</div>"
      ],
      "text/plain": [
       "           count       mean         std  min  25%  50%  75%     max\n",
       "Confirmed   27.0  90.703704  395.029679  1.0  1.5  2.0  5.5  2058.0"
      ]
     },
     "execution_count": 11,
     "metadata": {},
     "output_type": "execute_result"
    }
   ],
   "source": [
    "mers.describe().T\n",
    "#mers clean "
   ]
  },
  {
   "cell_type": "code",
   "execution_count": 12,
   "metadata": {},
   "outputs": [
    {
     "name": "stdout",
     "output_type": "stream",
     "text": [
      "<class 'pandas.core.frame.DataFrame'>\n",
      "RangeIndex: 1822 entries, 0 to 1821\n",
      "Data columns (total 4 columns):\n",
      "Country        1822 non-null object\n",
      "Cases          1822 non-null int64\n",
      "Deaths         1821 non-null float64\n",
      "Update Time    1822 non-null object\n",
      "dtypes: float64(1), int64(1), object(2)\n",
      "memory usage: 57.1+ KB\n"
     ]
    }
   ],
   "source": [
    "hn.info()"
   ]
  },
  {
   "cell_type": "code",
   "execution_count": 9,
   "metadata": {},
   "outputs": [
    {
     "name": "stdout",
     "output_type": "stream",
     "text": [
      "<class 'pandas.core.frame.DataFrame'>\n",
      "RangeIndex: 2538 entries, 0 to 2537\n",
      "Data columns (total 5 columns):\n",
      "Date                            2538 non-null object\n",
      "Country                         2538 non-null object\n",
      "Cumulative number of case(s)    2538 non-null int64\n",
      "Number of deaths                2538 non-null int64\n",
      "Number recovered                2538 non-null int64\n",
      "dtypes: int64(3), object(2)\n",
      "memory usage: 99.3+ KB\n"
     ]
    }
   ],
   "source": [
    "sars.info()"
   ]
  },
  {
   "cell_type": "code",
   "execution_count": 13,
   "metadata": {},
   "outputs": [
    {
     "data": {
      "text/plain": [
       "Date                            0\n",
       "Country                         0\n",
       "Cumulative number of case(s)    0\n",
       "Number of deaths                0\n",
       "Number recovered                0\n",
       "dtype: int64"
      ]
     },
     "execution_count": 13,
     "metadata": {},
     "output_type": "execute_result"
    }
   ],
   "source": [
    "sars.isnull().sum()"
   ]
  },
  {
   "cell_type": "code",
   "execution_count": 14,
   "metadata": {},
   "outputs": [
    {
     "data": {
      "text/html": [
       "<div>\n",
       "<style scoped>\n",
       "    .dataframe tbody tr th:only-of-type {\n",
       "        vertical-align: middle;\n",
       "    }\n",
       "\n",
       "    .dataframe tbody tr th {\n",
       "        vertical-align: top;\n",
       "    }\n",
       "\n",
       "    .dataframe thead th {\n",
       "        text-align: right;\n",
       "    }\n",
       "</style>\n",
       "<table border=\"1\" class=\"dataframe\">\n",
       "  <thead>\n",
       "    <tr style=\"text-align: right;\">\n",
       "      <th></th>\n",
       "      <th>count</th>\n",
       "      <th>mean</th>\n",
       "      <th>std</th>\n",
       "      <th>min</th>\n",
       "      <th>25%</th>\n",
       "      <th>50%</th>\n",
       "      <th>75%</th>\n",
       "      <th>max</th>\n",
       "    </tr>\n",
       "  </thead>\n",
       "  <tbody>\n",
       "    <tr>\n",
       "      <td>Cumulative number of case(s)</td>\n",
       "      <td>2538.0</td>\n",
       "      <td>219.211978</td>\n",
       "      <td>825.024564</td>\n",
       "      <td>0.0</td>\n",
       "      <td>1.0</td>\n",
       "      <td>3.0</td>\n",
       "      <td>14.75</td>\n",
       "      <td>5329.0</td>\n",
       "    </tr>\n",
       "    <tr>\n",
       "      <td>Number of deaths</td>\n",
       "      <td>2538.0</td>\n",
       "      <td>17.812845</td>\n",
       "      <td>61.425627</td>\n",
       "      <td>0.0</td>\n",
       "      <td>0.0</td>\n",
       "      <td>0.0</td>\n",
       "      <td>2.00</td>\n",
       "      <td>348.0</td>\n",
       "    </tr>\n",
       "    <tr>\n",
       "      <td>Number recovered</td>\n",
       "      <td>2538.0</td>\n",
       "      <td>134.678487</td>\n",
       "      <td>581.595350</td>\n",
       "      <td>0.0</td>\n",
       "      <td>1.0</td>\n",
       "      <td>2.0</td>\n",
       "      <td>9.00</td>\n",
       "      <td>4941.0</td>\n",
       "    </tr>\n",
       "  </tbody>\n",
       "</table>\n",
       "</div>"
      ],
      "text/plain": [
       "                               count        mean         std  min  25%  50%  \\\n",
       "Cumulative number of case(s)  2538.0  219.211978  825.024564  0.0  1.0  3.0   \n",
       "Number of deaths              2538.0   17.812845   61.425627  0.0  0.0  0.0   \n",
       "Number recovered              2538.0  134.678487  581.595350  0.0  1.0  2.0   \n",
       "\n",
       "                                75%     max  \n",
       "Cumulative number of case(s)  14.75  5329.0  \n",
       "Number of deaths               2.00   348.0  \n",
       "Number recovered               9.00  4941.0  "
      ]
     },
     "execution_count": 14,
     "metadata": {},
     "output_type": "execute_result"
    }
   ],
   "source": [
    "sars.describe().T\n",
    "#sars clean"
   ]
  },
  {
   "cell_type": "code",
   "execution_count": 10,
   "metadata": {},
   "outputs": [
    {
     "data": {
      "text/plain": [
       "(1822, 4)"
      ]
     },
     "execution_count": 10,
     "metadata": {},
     "output_type": "execute_result"
    }
   ],
   "source": [
    "hn.shape"
   ]
  },
  {
   "cell_type": "code",
   "execution_count": 17,
   "metadata": {},
   "outputs": [
    {
     "data": {
      "text/html": [
       "<div>\n",
       "<style scoped>\n",
       "    .dataframe tbody tr th:only-of-type {\n",
       "        vertical-align: middle;\n",
       "    }\n",
       "\n",
       "    .dataframe tbody tr th {\n",
       "        vertical-align: top;\n",
       "    }\n",
       "\n",
       "    .dataframe thead th {\n",
       "        text-align: right;\n",
       "    }\n",
       "</style>\n",
       "<table border=\"1\" class=\"dataframe\">\n",
       "  <thead>\n",
       "    <tr style=\"text-align: right;\">\n",
       "      <th></th>\n",
       "      <th>Country</th>\n",
       "      <th>Cases</th>\n",
       "      <th>Deaths</th>\n",
       "      <th>Update Time</th>\n",
       "    </tr>\n",
       "  </thead>\n",
       "  <tbody>\n",
       "    <tr>\n",
       "      <td>756</td>\n",
       "      <td>Martinique, FOC</td>\n",
       "      <td>1</td>\n",
       "      <td>0.0</td>\n",
       "      <td>6/22/2009 7:00</td>\n",
       "    </tr>\n",
       "    <tr>\n",
       "      <td>1043</td>\n",
       "      <td>Jamaica</td>\n",
       "      <td>11</td>\n",
       "      <td>0.0</td>\n",
       "      <td>6/15/2009 17:00</td>\n",
       "    </tr>\n",
       "    <tr>\n",
       "      <td>1151</td>\n",
       "      <td>United Kingdom</td>\n",
       "      <td>822</td>\n",
       "      <td>0.0</td>\n",
       "      <td>6/12/2009 7:00</td>\n",
       "    </tr>\n",
       "    <tr>\n",
       "      <td>483</td>\n",
       "      <td>Trinidad and Tobago</td>\n",
       "      <td>53</td>\n",
       "      <td>0.0</td>\n",
       "      <td>6/29/2009 9:00</td>\n",
       "    </tr>\n",
       "    <tr>\n",
       "      <td>900</td>\n",
       "      <td>Switzerland</td>\n",
       "      <td>27</td>\n",
       "      <td>0.0</td>\n",
       "      <td>6/19/2009 7:00</td>\n",
       "    </tr>\n",
       "  </tbody>\n",
       "</table>\n",
       "</div>"
      ],
      "text/plain": [
       "                  Country  Cases  Deaths      Update Time\n",
       "756       Martinique, FOC      1     0.0   6/22/2009 7:00\n",
       "1043              Jamaica     11     0.0  6/15/2009 17:00\n",
       "1151       United Kingdom    822     0.0   6/12/2009 7:00\n",
       "483   Trinidad and Tobago     53     0.0   6/29/2009 9:00\n",
       "900           Switzerland     27     0.0   6/19/2009 7:00"
      ]
     },
     "execution_count": 17,
     "metadata": {},
     "output_type": "execute_result"
    }
   ],
   "source": [
    "hn.sample(5)"
   ]
  },
  {
   "cell_type": "code",
   "execution_count": 18,
   "metadata": {},
   "outputs": [
    {
     "data": {
      "text/plain": [
       "1641738"
      ]
     },
     "execution_count": 18,
     "metadata": {},
     "output_type": "execute_result"
    }
   ],
   "source": [
    "hn.Cases.sum()\n",
    "#this number supose to be 60.8 "
   ]
  },
  {
   "cell_type": "code",
   "execution_count": 19,
   "metadata": {},
   "outputs": [
    {
     "data": {
      "text/plain": [
       "7859.0"
      ]
     },
     "execution_count": 19,
     "metadata": {},
     "output_type": "execute_result"
    }
   ],
   "source": [
    "hn.Deaths.sum()\n",
    "# this supose 12,469 according to data description \n",
    "#https://www.kaggle.com/kerneler/starter-pandemic-2009-h1n1-swine-flu-238aa138-8"
   ]
  },
  {
   "cell_type": "code",
   "execution_count": 20,
   "metadata": {},
   "outputs": [
    {
     "data": {
      "text/plain": [
       "Country        0\n",
       "Cases          0\n",
       "Deaths         1\n",
       "Update Time    0\n",
       "dtype: int64"
      ]
     },
     "execution_count": 20,
     "metadata": {},
     "output_type": "execute_result"
    }
   ],
   "source": [
    "hn.isnull().sum()"
   ]
  },
  {
   "cell_type": "code",
   "execution_count": 28,
   "metadata": {},
   "outputs": [
    {
     "data": {
      "text/html": [
       "<div>\n",
       "<style scoped>\n",
       "    .dataframe tbody tr th:only-of-type {\n",
       "        vertical-align: middle;\n",
       "    }\n",
       "\n",
       "    .dataframe tbody tr th {\n",
       "        vertical-align: top;\n",
       "    }\n",
       "\n",
       "    .dataframe thead th {\n",
       "        text-align: right;\n",
       "    }\n",
       "</style>\n",
       "<table border=\"1\" class=\"dataframe\">\n",
       "  <thead>\n",
       "    <tr style=\"text-align: right;\">\n",
       "      <th></th>\n",
       "      <th>Country</th>\n",
       "      <th>Cases</th>\n",
       "      <th>Deaths</th>\n",
       "      <th>Update Time</th>\n",
       "    </tr>\n",
       "  </thead>\n",
       "  <tbody>\n",
       "    <tr>\n",
       "      <td>715</td>\n",
       "      <td>Vanuatu</td>\n",
       "      <td>1</td>\n",
       "      <td>NaN</td>\n",
       "      <td>6/24/2009 7:00</td>\n",
       "    </tr>\n",
       "  </tbody>\n",
       "</table>\n",
       "</div>"
      ],
      "text/plain": [
       "     Country  Cases  Deaths     Update Time\n",
       "715  Vanuatu      1     NaN  6/24/2009 7:00"
      ]
     },
     "execution_count": 28,
     "metadata": {},
     "output_type": "execute_result"
    }
   ],
   "source": [
    "hn[hn.Deaths.isnull()]\n",
    "#check the null data "
   ]
  },
  {
   "cell_type": "code",
   "execution_count": 21,
   "metadata": {},
   "outputs": [
    {
     "data": {
      "text/html": [
       "<div>\n",
       "<style scoped>\n",
       "    .dataframe tbody tr th:only-of-type {\n",
       "        vertical-align: middle;\n",
       "    }\n",
       "\n",
       "    .dataframe tbody tr th {\n",
       "        vertical-align: top;\n",
       "    }\n",
       "\n",
       "    .dataframe thead th {\n",
       "        text-align: right;\n",
       "    }\n",
       "</style>\n",
       "<table border=\"1\" class=\"dataframe\">\n",
       "  <thead>\n",
       "    <tr style=\"text-align: right;\">\n",
       "      <th></th>\n",
       "      <th>count</th>\n",
       "      <th>mean</th>\n",
       "      <th>std</th>\n",
       "      <th>min</th>\n",
       "      <th>25%</th>\n",
       "      <th>50%</th>\n",
       "      <th>75%</th>\n",
       "      <th>max</th>\n",
       "    </tr>\n",
       "  </thead>\n",
       "  <tbody>\n",
       "    <tr>\n",
       "      <td>Cases</td>\n",
       "      <td>1822.0</td>\n",
       "      <td>901.063666</td>\n",
       "      <td>5264.291392</td>\n",
       "      <td>1.0</td>\n",
       "      <td>3.0</td>\n",
       "      <td>13.5</td>\n",
       "      <td>88.75</td>\n",
       "      <td>94512.0</td>\n",
       "    </tr>\n",
       "    <tr>\n",
       "      <td>Deaths</td>\n",
       "      <td>1821.0</td>\n",
       "      <td>4.315761</td>\n",
       "      <td>25.793340</td>\n",
       "      <td>0.0</td>\n",
       "      <td>0.0</td>\n",
       "      <td>0.0</td>\n",
       "      <td>0.00</td>\n",
       "      <td>429.0</td>\n",
       "    </tr>\n",
       "  </tbody>\n",
       "</table>\n",
       "</div>"
      ],
      "text/plain": [
       "         count        mean          std  min  25%   50%    75%      max\n",
       "Cases   1822.0  901.063666  5264.291392  1.0  3.0  13.5  88.75  94512.0\n",
       "Deaths  1821.0    4.315761    25.793340  0.0  0.0   0.0   0.00    429.0"
      ]
     },
     "execution_count": 21,
     "metadata": {},
     "output_type": "execute_result"
    }
   ],
   "source": [
    "hn.describe().T\n"
   ]
  },
  {
   "cell_type": "code",
   "execution_count": 22,
   "metadata": {},
   "outputs": [
    {
     "data": {
      "text/plain": [
       "Index(['Country', 'Confirmed'], dtype='object')"
      ]
     },
     "execution_count": 22,
     "metadata": {},
     "output_type": "execute_result"
    }
   ],
   "source": [
    "#mers no deaths number but its avalible on WHO\n",
    "mers.columns\n"
   ]
  },
  {
   "cell_type": "code",
   "execution_count": 23,
   "metadata": {},
   "outputs": [
    {
     "data": {
      "text/plain": [
       "2449"
      ]
     },
     "execution_count": 23,
     "metadata": {},
     "output_type": "execute_result"
    }
   ],
   "source": [
    "#mers['New Cases'].sum()\n",
    "mers['Confirmed'].sum()"
   ]
  },
  {
   "cell_type": "code",
   "execution_count": 22,
   "metadata": {},
   "outputs": [
    {
     "data": {
      "text/plain": [
       "Country      0\n",
       "Confirmed    0\n",
       "dtype: int64"
      ]
     },
     "execution_count": 22,
     "metadata": {},
     "output_type": "execute_result"
    }
   ],
   "source": [
    "mers.isnull().sum()"
   ]
  },
  {
   "cell_type": "code",
   "execution_count": 23,
   "metadata": {},
   "outputs": [
    {
     "data": {
      "text/html": [
       "<div>\n",
       "<style scoped>\n",
       "    .dataframe tbody tr th:only-of-type {\n",
       "        vertical-align: middle;\n",
       "    }\n",
       "\n",
       "    .dataframe tbody tr th {\n",
       "        vertical-align: top;\n",
       "    }\n",
       "\n",
       "    .dataframe thead th {\n",
       "        text-align: right;\n",
       "    }\n",
       "</style>\n",
       "<table border=\"1\" class=\"dataframe\">\n",
       "  <thead>\n",
       "    <tr style=\"text-align: right;\">\n",
       "      <th></th>\n",
       "      <th>count</th>\n",
       "      <th>mean</th>\n",
       "      <th>std</th>\n",
       "      <th>min</th>\n",
       "      <th>25%</th>\n",
       "      <th>50%</th>\n",
       "      <th>75%</th>\n",
       "      <th>max</th>\n",
       "    </tr>\n",
       "  </thead>\n",
       "  <tbody>\n",
       "    <tr>\n",
       "      <td>Confirmed</td>\n",
       "      <td>27.0</td>\n",
       "      <td>90.703704</td>\n",
       "      <td>395.029679</td>\n",
       "      <td>1.0</td>\n",
       "      <td>1.5</td>\n",
       "      <td>2.0</td>\n",
       "      <td>5.5</td>\n",
       "      <td>2058.0</td>\n",
       "    </tr>\n",
       "  </tbody>\n",
       "</table>\n",
       "</div>"
      ],
      "text/plain": [
       "           count       mean         std  min  25%  50%  75%     max\n",
       "Confirmed   27.0  90.703704  395.029679  1.0  1.5  2.0  5.5  2058.0"
      ]
     },
     "execution_count": 23,
     "metadata": {},
     "output_type": "execute_result"
    }
   ],
   "source": [
    "mers.describe().T\n",
    "#"
   ]
  },
  {
   "cell_type": "code",
   "execution_count": null,
   "metadata": {},
   "outputs": [],
   "source": []
  }
 ],
 "metadata": {
  "kernelspec": {
   "display_name": "Python 3",
   "language": "python",
   "name": "python3"
  },
  "language_info": {
   "codemirror_mode": {
    "name": "ipython",
    "version": 3
   },
   "file_extension": ".py",
   "mimetype": "text/x-python",
   "name": "python",
   "nbconvert_exporter": "python",
   "pygments_lexer": "ipython3",
   "version": "3.7.4"
  }
 },
 "nbformat": 4,
 "nbformat_minor": 2
}
